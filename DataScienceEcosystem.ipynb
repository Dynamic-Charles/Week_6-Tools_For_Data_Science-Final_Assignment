{
 "cells": [
  {
   "cell_type": "markdown",
   "id": "306cd8d3",
   "metadata": {},
   "source": [
    "# Data Science Tools and Ecosystem"
   ]
  },
  {
   "cell_type": "markdown",
   "id": "407ebf86",
   "metadata": {},
   "source": [
    "In this notebook, Data Science Tools and Ecosystem are summarized."
   ]
  },
  {
   "cell_type": "markdown",
   "id": "63fc7308",
   "metadata": {},
   "source": [
    "**Objectives:**\n",
    "- List popular languages for Data Science\n",
    "- Create a Jupyter Notebook\n",
    "- List popular languages that Data Scientists use\n",
    "- List Commonly used libraries used by Data Scientists include:\n",
    "- Create a single column table\n",
    "- Evaluate arithmetic expressions in Python"
   ]
  },
  {
   "cell_type": "markdown",
   "id": "7b3be831",
   "metadata": {},
   "source": [
    "Some of the popular languages that Data Scientists use are:"
   ]
  },
  {
   "cell_type": "markdown",
   "id": "c75e5a6f",
   "metadata": {},
   "source": [
    "1. R\n",
    "2. Python\n",
    "3. C++\n",
    "4. Scala\n",
    "5. SQL\n",
    "6. Java"
   ]
  },
  {
   "cell_type": "markdown",
   "id": "f20ad65d",
   "metadata": {},
   "source": [
    "Some of the commonly used libraries used by Data Scientists include:"
   ]
  },
  {
   "cell_type": "markdown",
   "id": "d314e6ab",
   "metadata": {},
   "source": [
    "1. TensorFlow\n",
    "2. NumPy\n",
    "3. Matplotlib\n",
    "4. Pandas\n",
    "5. NumPy"
   ]
  },
  {
   "cell_type": "markdown",
   "id": "502c6e41",
   "metadata": {},
   "source": [
    "| Data Science Tools |\n",
    "| -------------|\n",
    "| Jupyter |\n",
    "| RStudio  |\n",
    "| Spyder  |\n"
   ]
  },
  {
   "cell_type": "markdown",
   "id": "9a238fc5",
   "metadata": {},
   "source": [
    "### Below are a few examples of evaluating arithmetic expressions in Python"
   ]
  },
  {
   "cell_type": "code",
   "execution_count": 4,
   "id": "f824f842",
   "metadata": {},
   "outputs": [
    {
     "data": {
      "text/plain": [
       "17"
      ]
     },
     "execution_count": 4,
     "metadata": {},
     "output_type": "execute_result"
    }
   ],
   "source": [
    "#This a simple arithmetic expression to mutiply then add integers\n",
    "(3*4)+5"
   ]
  },
  {
   "cell_type": "code",
   "execution_count": 5,
   "id": "ff139a9e",
   "metadata": {},
   "outputs": [
    {
     "name": "stdout",
     "output_type": "stream",
     "text": [
      "200 minutes is equal to 3.3333333333333335 hours.\n"
     ]
    }
   ],
   "source": [
    "# This will convert 200 minutes to hours by diving by 60.\n",
    "minutes = 200\n",
    "hours = minutes / 60\n",
    "print(f\"{minutes} minutes is equal to {hours} hours.\")"
   ]
  },
  {
   "cell_type": "markdown",
   "id": "c2b53740",
   "metadata": {},
   "source": [
    "## Author\n",
    "Bradley Johnson"
   ]
  },
  {
   "cell_type": "code",
   "execution_count": null,
   "id": "1f4f6123",
   "metadata": {},
   "outputs": [],
   "source": []
  }
 ],
 "metadata": {
  "kernelspec": {
   "display_name": "Python 3 (ipykernel)",
   "language": "python",
   "name": "python3"
  },
  "language_info": {
   "codemirror_mode": {
    "name": "ipython",
    "version": 3
   },
   "file_extension": ".py",
   "mimetype": "text/x-python",
   "name": "python",
   "nbconvert_exporter": "python",
   "pygments_lexer": "ipython3",
   "version": "3.10.9"
  }
 },
 "nbformat": 4,
 "nbformat_minor": 5
}
